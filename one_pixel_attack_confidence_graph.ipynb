{
  "cells": [
    {
      "cell_type": "code",
      "source": [
        "!pip install scipy numpy six"
      ],
      "metadata": {
        "id": "nKzvz9xB7Xnd"
      },
      "execution_count": null,
      "outputs": []
    },
    {
      "cell_type": "code",
      "execution_count": null,
      "metadata": {
        "id": "tXMlBYFwL6JX"
      },
      "outputs": [],
      "source": [
        "# If running in Google Colab, import files\n",
        "try:\n",
        "    import google.colab\n",
        "    in_colab = True\n",
        "except:\n",
        "    in_colab = False\n",
        "\n",
        "if in_colab:\n",
        "    !git clone https://github.com/aiken516/one-pixel-attack-keras.git\n",
        "    !mv -v one-pixel-attack-keras/* .\n",
        "    !rm -rf one-pixel-attack-keras\n",
        "\n",
        "# Python Libraries\n",
        "%matplotlib inline\n",
        "import pickle\n",
        "import numpy as np\n",
        "import pandas as pd\n",
        "import matplotlib\n",
        "from keras.datasets import cifar10\n",
        "from keras import backend as K\n",
        "\n",
        "# Custom Networks\n",
        "from networks.lenet import LeNet\n",
        "#from networks.pure_cnn import PureCnn\n",
        "#from networks.network_in_network import NetworkInNetwork\n",
        "from networks.resnet import ResNet\n",
        "#from networks.densenet import DenseNet\n",
        "#from networks.wide_resnet import WideResNet\n",
        "#from networks.capsnet import CapsNet\n",
        "\n",
        "# Helper functions\n",
        "from differential_evolution import differential_evolution\n",
        "import helper\n",
        "\n",
        "import time\n",
        "\n",
        "matplotlib.style.use('ggplot')\n",
        "np.random.seed(100)"
      ]
    },
    {
      "cell_type": "markdown",
      "metadata": {
        "id": "wLpB45gxL6JY"
      },
      "source": [
        "## Load Dataset"
      ]
    },
    {
      "cell_type": "markdown",
      "metadata": {
        "id": "G4VxN7lYL6JY"
      },
      "source": [
        "For this attack, we will use the [Cifar10 dataset](https://www.cs.toronto.edu/~kriz/cifar.html) packaged by Keras. The task of the dataset is to correctly classify a 32x32 pixel image in 1 of 10 categories (e.g., bird, deer, truck).\n",
        "\n",
        "The code below will load the Cifar10 dataset. Keras will need to download the dataset if it is not cached locally already."
      ]
    },
    {
      "cell_type": "code",
      "execution_count": null,
      "metadata": {
        "id": "p2W475HxL6JZ"
      },
      "outputs": [],
      "source": [
        "(x_train, y_train), (x_test, y_test) = cifar10.load_data()"
      ]
    },
    {
      "cell_type": "code",
      "execution_count": 4,
      "metadata": {
        "id": "FO9iBXBcL6JZ"
      },
      "outputs": [],
      "source": [
        "class_names = ['airplane', 'automobile', 'bird', 'cat', 'deer', 'dog', 'frog', 'horse', 'ship', 'truck']"
      ]
    },
    {
      "cell_type": "code",
      "execution_count": null,
      "metadata": {
        "id": "st-Qk8TiL6JZ"
      },
      "outputs": [],
      "source": [
        "image_id = 99 # Image index in the test set\n",
        "helper.plot_image(x_test[image_id])"
      ]
    },
    {
      "cell_type": "code",
      "execution_count": 5,
      "metadata": {
        "id": "JP-_mWqfL6Ja"
      },
      "outputs": [],
      "source": [
        "def perturb_image(xs, img):\n",
        "    # If this function is passed just one perturbation vector,\n",
        "    # pack it in a list to keep the computation the same\n",
        "    if xs.ndim < 2:\n",
        "        xs = np.array([xs])\n",
        "\n",
        "    # Copy the image n == len(xs) times so that we can\n",
        "    # create n new perturbed images\n",
        "    tile = [len(xs)] + [1]*(xs.ndim+1)\n",
        "    imgs = np.tile(img, tile)\n",
        "\n",
        "    # Make sure to floor the members of xs as int types\n",
        "    xs = xs.astype(int)\n",
        "\n",
        "    for x,img in zip(xs, imgs):\n",
        "        # Split x into an array of 5-tuples (perturbation pixels)\n",
        "        # i.e., [[x,y,r,g,b], ...]\n",
        "        pixels = np.split(x, len(x) // 5)\n",
        "        for pixel in pixels:\n",
        "            # At each pixel's x,y position, assign its rgb value\n",
        "            x_pos, y_pos, *rgb = pixel\n",
        "            img[x_pos, y_pos] = rgb\n",
        "\n",
        "    return imgs"
      ]
    },
    {
      "cell_type": "code",
      "execution_count": null,
      "metadata": {
        "id": "5zSLaLPML6Ja"
      },
      "outputs": [],
      "source": [
        "image_id = 99 # Image index in the test set\n",
        "pixel = np.array([16, 16, 255, 255, 0]) # pixel = x,y,r,g,b\n",
        "image_perturbed = perturb_image(pixel, x_test[image_id])[0]\n",
        "\n",
        "helper.plot_image(image_perturbed)"
      ]
    },
    {
      "cell_type": "code",
      "execution_count": null,
      "metadata": {
        "id": "FFmZle1xL6Jb"
      },
      "outputs": [],
      "source": [
        "lenet = LeNet()\n",
        "resnet = ResNet()\n",
        "\n",
        "models = [lenet, resnet] #, resnet]\n",
        "\n",
        "## Uncomment below to load more models to play with. Make sure the model files exist by training or downloading them.\n",
        "\n",
        "# lenet = LeNet()\n",
        "# pure_cnn = PureCnn()\n",
        "# net_in_net = NetworkInNetwork()\n",
        "# resnet = ResNet()\n",
        "# densenet = DenseNet()\n",
        "# wide_resnet = WideResNet()\n",
        "# capsnet = CapsNet()\n",
        "\n",
        "# models = [lenet, pure_cnn, net_in_net, resnet, densenet, wide_resnet, capsnet]"
      ]
    },
    {
      "cell_type": "code",
      "execution_count": null,
      "metadata": {
        "scrolled": false,
        "id": "ZhAlH-oRL6Jb"
      },
      "outputs": [],
      "source": [
        "network_stats, correct_imgs = helper.evaluate_models(models, x_test, y_test)\n",
        "correct_imgs = pd.DataFrame(correct_imgs, columns=['name', 'img', 'label', 'confidence', 'pred'])\n",
        "network_stats = pd.DataFrame(network_stats, columns=['name', 'accuracy', 'param_count'])\n",
        "\n",
        "network_stats"
      ]
    },
    {
      "cell_type": "code",
      "execution_count": 7,
      "metadata": {
        "id": "oBBlQk6tL6Jc"
      },
      "outputs": [],
      "source": [
        "def predict_classes(xs, img, target_class, model, minimize=True):\n",
        "    # Perturb the image with the given pixel(s) x and get the prediction of the model\n",
        "    imgs_perturbed = perturb_image(xs, img)\n",
        "    predictions = model.predict(imgs_perturbed)[:,target_class]\n",
        "    # This function should always be minimized, so return its complement if needed\n",
        "    return predictions if minimize else 1 - predictions"
      ]
    },
    {
      "cell_type": "code",
      "execution_count": null,
      "metadata": {
        "scrolled": true,
        "id": "4PTgb5SyL6Jc"
      },
      "outputs": [],
      "source": [
        "image_id = 384\n",
        "pixel = np.array([16, 13,  25, 48, 156])\n",
        "model = resnet\n",
        "\n",
        "true_class = y_test[image_id, 0]\n",
        "prior_confidence = model.predict_one(x_test[image_id])[true_class]\n",
        "confidence = predict_classes(pixel, x_test[image_id], true_class, model)[0]\n",
        "\n",
        "print('Confidence in true class', class_names[true_class], 'is', confidence)\n",
        "print('Prior confidence was', prior_confidence)\n",
        "helper.plot_image(perturb_image(pixel, x_test[image_id])[0])"
      ]
    },
    {
      "cell_type": "code",
      "source": [
        "from matplotlib import pyplot as plt\n",
        "from mpl_toolkits.mplot3d import Axes3D\n",
        "\n",
        "fig = plt.figure(figsize=(8, 8))\n",
        "ax = fig.add_subplot(111, projection='3d')\n",
        "\n",
        "# Axes의 타이틀을 설정\n",
        "ax.set_title(\"Graph\", size = 20)\n",
        "\n",
        "# 축 라벨을 설정\n",
        "ax.set_xlabel(\"x\", size = 14)\n",
        "ax.set_ylabel(\"y\", size = 14)\n",
        "ax.set_zlabel(\"confidence\", size = 14)"
      ],
      "metadata": {
        "id": "Uuqu-JCCD89T"
      },
      "execution_count": null,
      "outputs": []
    },
    {
      "cell_type": "code",
      "source": [
        "def one_color_graph(pixel, img_id, model, true_class, color):\n",
        "    img = x_test[img_id]\n",
        "    color_list = []\n",
        "    confidence_list = []\n",
        "\n",
        "    # 그래프의 타이틀을 설정\n",
        "    plt.title(\"id:{0} model:{1} ({2}, {3})\".format(img_id, model.name, pixel[0], pixel[1]), size = 10)\n",
        "\n",
        "\n",
        "    # color 인자로 변경할 값 찾기\n",
        "    if color == 'r':\n",
        "        color_num = 2\n",
        "    elif color == 'g':\n",
        "        color_num = 3\n",
        "    elif color == 'b':\n",
        "        color_num = 4\n",
        "\n",
        "    for rgb in range(0, 255, step):\n",
        "        pixel[color_num] = rgb\n",
        "\n",
        "        imgs_perturbed = perturb_image(pixel, img)\n",
        "        color_list.append(rgb)\n",
        "        predictions = model.predict_one(imgs_perturbed)[true_class]\n",
        "        confidence_list.append(predictions)\n",
        "\n",
        "    plt.plot(color_list, confidence_list, color)\n",
        "    plt.show()\n",
        "\n",
        "def two_color_graph(pixel, img_id, model, true_class, color_1, color_2):\n",
        "    img = x_test[img_id]\n",
        "    color_list_x = []\n",
        "    color_list_y = []\n",
        "    confidence_list = []\n",
        "\n",
        "    if color_1 == 'r':\n",
        "        color_num_1 = 2\n",
        "    elif color_1 == 'g':\n",
        "        color_num_1 = 3\n",
        "    elif color_1 == 'b':\n",
        "        color_num_1 = 4\n",
        "\n",
        "    if color_2 == 'r':\n",
        "        color_num_2 = 2\n",
        "    elif color_2 == 'g':\n",
        "        color_num_2 = 3\n",
        "    elif color_2 == 'b':\n",
        "        color_num_2 = 4\n",
        "\n",
        "    fig = plt.figure(figsize=(8, 8))\n",
        "    ax = fig.add_subplot(111, projection='3d')\n",
        "\n",
        "    # Axes의 타이틀을 설정\n",
        "    ax.set_title(\"id:{0} model:{1} ({2}, {3})\".format(img_id, model.name, pixel[0], pixel[1]), size = 10)\n",
        "\n",
        "    # 축 라벨을 설정\n",
        "    ax.set_xlabel(color_1, size = 14)\n",
        "    ax.set_ylabel(color_2, size = 14)\n",
        "    ax.set_zlabel(\"confidence\", size = 14)\n",
        "\n",
        "    for rgb_x in range(0, 255, step):\n",
        "      for rgb_y in range(0, 255, step):\n",
        "          pixel[color_num_1] = rgb_x\n",
        "          pixel[color_num_2] = rgb_y\n",
        "\n",
        "          imgs_perturbed = perturb_image(pixel, img)\n",
        "          color_list_x.append(rgb_x)\n",
        "          color_list_y.append(rgb_y)\n",
        "          predictions = model.predict_one(imgs_perturbed)[true_class]\n",
        "          confidence_list.append(predictions)\n",
        "\n",
        "    ax.scatter(color_list_x, color_list_y, confidence_list, 'r', alpha = 0.5)\n",
        "\n",
        "def three_color_graph(pixel, img, model, true_class):\n",
        "    fig = plt.figure(figsize=(8, 8))\n",
        "    ax = fig.add_subplot(111, projection='3d')\n",
        "\n",
        "    # Axes의 타이틀을 설정\n",
        "    ax.set_title(\"id:{0} model:{1} ({2}, {3})\".format(img_id, model.name, pixel[0], pixel[1]), size = 10)\n",
        "\n",
        "    # 축 라벨을 설정\n",
        "    ax.set_xlabel(\"r\", size = 14)\n",
        "    ax.set_ylabel(\"g\", size = 14)\n",
        "    ax.set_zlabel(\"b\", size = 14)\n",
        "\n",
        "    for r in range(0, 255, step):\n",
        "      pixel[2] = r\n",
        "      for g in range(0, 255, step):\n",
        "          pixel[3] = g\n",
        "          for b in range(0, 255, step):\n",
        "              pixel[4] = b\n",
        "\n",
        "              imgs_perturbed = perturb_image(pixel, img)\n",
        "              predictions = model.predict_one(imgs_perturbed)[true_class]\n",
        "              ax.scatter(r, g, b, 'r', alpha = predictions)"
      ],
      "metadata": {
        "id": "HnnHrwEy2UMs"
      },
      "execution_count": null,
      "outputs": []
    },
    {
      "cell_type": "code",
      "source": [
        "image_id = 384\n",
        "\n",
        "pixel = np.array([13, 25,  92, 109,  76])\n",
        "\n",
        "helper.plot_image(perturb_image(pixel, x_test[image_id]))"
      ],
      "metadata": {
        "id": "UklAF-KcJpVp"
      },
      "execution_count": null,
      "outputs": []
    },
    {
      "cell_type": "code",
      "source": [
        "image_id = 384\n",
        "model = resnet\n",
        "\n",
        "print(model.name)"
      ],
      "metadata": {
        "id": "b2FgidkVAxci"
      },
      "execution_count": null,
      "outputs": []
    },
    {
      "cell_type": "code",
      "source": [
        "step = 1\n",
        "image_id = 384\n",
        "model = lenet\n",
        "true_class = y_test[image_id, 0]\n",
        "print(class_names[true_class])\n",
        "helper.plot_image(x_test[image_id])\n",
        "\n",
        "pixel = np.array([13, 25,  0, 0, 0])"
      ],
      "metadata": {
        "id": "-6bpcwDw47Lb"
      },
      "execution_count": null,
      "outputs": []
    },
    {
      "cell_type": "code",
      "source": [
        "one_color_graph(pixel, image_id, model, true_class, 'r')\n",
        "one_color_graph(pixel, image_id, model, true_class, 'g')\n",
        "one_color_graph(pixel, image_id, model, true_class, 'b')"
      ],
      "metadata": {
        "id": "NtpsG2fTCBt9"
      },
      "execution_count": null,
      "outputs": []
    },
    {
      "cell_type": "code",
      "source": [
        "step = 8\n",
        "model = lenet\n",
        "two_color_graph(pixel, image_id, model, true_class, 'r', 'g')\n",
        "two_color_graph(pixel, image_id, model, true_class, 'r', 'b')\n",
        "two_color_graph(pixel, image_id, model, true_class, 'g', 'b')"
      ],
      "metadata": {
        "id": "sQKrCb1tB5JE"
      },
      "execution_count": null,
      "outputs": []
    }
  ],
  "metadata": {
    "kernelspec": {
      "display_name": "Python 3",
      "language": "python",
      "name": "python3"
    },
    "language_info": {
      "codemirror_mode": {
        "name": "ipython",
        "version": 3
      },
      "file_extension": ".py",
      "mimetype": "text/x-python",
      "name": "python",
      "nbconvert_exporter": "python",
      "pygments_lexer": "ipython3",
      "version": "3.7.1"
    },
    "colab": {
      "provenance": []
    }
  },
  "nbformat": 4,
  "nbformat_minor": 0
}