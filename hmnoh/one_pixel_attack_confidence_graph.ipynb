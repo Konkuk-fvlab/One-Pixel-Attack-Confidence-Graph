{
  "cells": [
    {
      "cell_type": "code",
      "execution_count": null,
      "metadata": {
        "id": "tXMlBYFwL6JX"
      },
      "outputs": [],
      "source": [
        "# If running in Google Colab, import files\n",
        "try:\n",
        "    import google.colab\n",
        "    in_colab = True\n",
        "except:\n",
        "    in_colab = False\n",
        "\n",
        "if in_colab:\n",
        "    !git clone https://github.com/aiken516/one-pixel-attack-keras.git\n",
        "    !mv -v one-pixel-attack-keras/* .\n",
        "    !rm -rf one-pixel-attack-keras\n",
        "\n",
        "# Python Libraries\n",
        "%matplotlib inline\n",
        "import pickle\n",
        "import numpy as np\n",
        "import pandas as pd\n",
        "import matplotlib\n",
        "from keras.datasets import cifar10\n",
        "from keras import backend as K\n",
        "\n",
        "# Custom Networks\n",
        "from networks.lenet import LeNet\n",
        "from networks.pure_cnn import PureCnn\n",
        "from networks.network_in_network import NetworkInNetwork\n",
        "from networks.resnet import ResNet\n",
        "from networks.densenet import DenseNet\n",
        "from networks.wide_resnet import WideResNet\n",
        "from networks.capsnet import CapsNet\n",
        "\n",
        "# Helper functions\n",
        "from differential_evolution import differential_evolution\n",
        "import helper\n",
        "\n",
        "import time\n",
        "\n",
        "matplotlib.style.use('ggplot')\n",
        "np.random.seed(100)"
      ]
    },
    {
      "cell_type": "markdown",
      "metadata": {
        "id": "wLpB45gxL6JY"
      },
      "source": [
        "## Load Dataset"
      ]
    },
    {
      "cell_type": "markdown",
      "metadata": {
        "id": "G4VxN7lYL6JY"
      },
      "source": [
        "For this attack, we will use the [Cifar10 dataset](https://www.cs.toronto.edu/~kriz/cifar.html) packaged by Keras. The task of the dataset is to correctly classify a 32x32 pixel image in 1 of 10 categories (e.g., bird, deer, truck).\n",
        "\n",
        "The code below will load the Cifar10 dataset. Keras will need to download the dataset if it is not cached locally already."
      ]
    },
    {
      "cell_type": "code",
      "execution_count": null,
      "metadata": {
        "id": "p2W475HxL6JZ"
      },
      "outputs": [],
      "source": [
        "(x_train, y_train), (x_test, y_test) = cifar10.load_data()"
      ]
    },
    {
      "cell_type": "code",
      "execution_count": null,
      "metadata": {
        "id": "FO9iBXBcL6JZ"
      },
      "outputs": [],
      "source": [
        "class_names = ['airplane', 'automobile', 'bird', 'cat', 'deer', 'dog', 'frog', 'horse', 'ship', 'truck']"
      ]
    },
    {
      "cell_type": "code",
      "execution_count": null,
      "metadata": {
        "id": "st-Qk8TiL6JZ"
      },
      "outputs": [],
      "source": [
        "image_id = 35 # Image index in the test set\n",
        "helper.plot_image(x_test[image_id])"
      ]
    },
    {
      "cell_type": "code",
      "execution_count": null,
      "metadata": {
        "id": "JP-_mWqfL6Ja"
      },
      "outputs": [],
      "source": [
        "def perturb_image(xs, img):\n",
        "    # If this function is passed just one perturbation vector,\n",
        "    # pack it in a list to keep the computation the same\n",
        "    if xs.ndim < 2:\n",
        "        xs = np.array([xs])\n",
        "\n",
        "    # Copy the image n == len(xs) times so that we can\n",
        "    # create n new perturbed images\n",
        "    tile = [len(xs)] + [1]*(xs.ndim+1)\n",
        "    imgs = np.tile(img, tile)\n",
        "\n",
        "    # Make sure to floor the members of xs as int types\n",
        "    xs = xs.astype(int)\n",
        "\n",
        "    for x,img in zip(xs, imgs):\n",
        "        # Split x into an array of 5-tuples (perturbation pixels)\n",
        "        # i.e., [[x,y,r,g,b], ...]\n",
        "        pixels = np.split(x, len(x) // 5)\n",
        "        for pixel in pixels:\n",
        "            # At each pixel's x,y position, assign its rgb value\n",
        "            x_pos, y_pos, *rgb = pixel\n",
        "            img[x_pos, y_pos] = rgb\n",
        "\n",
        "    return imgs"
      ]
    },
    {
      "cell_type": "code",
      "execution_count": null,
      "metadata": {
        "id": "5zSLaLPML6Ja"
      },
      "outputs": [],
      "source": [
        "image_id = 99 # Image index in the test set\n",
        "pixel = np.array([16, 16, 255, 255, 0]) # pixel = x,y,r,g,b\n",
        "image_perturbed = perturb_image(pixel, x_test[image_id])[0]\n",
        "\n",
        "helper.plot_image(image_perturbed)"
      ]
    },
    {
      "cell_type": "code",
      "execution_count": null,
      "metadata": {
        "id": "FFmZle1xL6Jb"
      },
      "outputs": [],
      "source": [
        "lenet = LeNet()\n",
        "resnet = ResNet()\n",
        "\n",
        "models = [lenet, resnet] #, resnet]\n",
        "\n",
        "## Uncomment below to load more models to play with. Make sure the model files exist by training or downloading them.\n",
        "\n",
        "# lenet = LeNet()\n",
        "# pure_cnn = PureCnn()\n",
        "# net_in_net = NetworkInNetwork()\n",
        "# resnet = ResNet()\n",
        "# densenet = DenseNet()\n",
        "# wide_resnet = WideResNet()\n",
        "# capsnet = CapsNet()\n",
        "\n",
        "# models = [lenet, pure_cnn, net_in_net, resnet, densenet, wide_resnet, capsnet]"
      ]
    },
    {
      "cell_type": "code",
      "execution_count": null,
      "metadata": {
        "id": "oBBlQk6tL6Jc"
      },
      "outputs": [],
      "source": [
        "def predict_classes(xs, img, target_class, model, minimize=True):\n",
        "    # Perturb the image with the given pixel(s) x and get the prediction of the model\n",
        "    imgs_perturbed = perturb_image(xs, img)\n",
        "    predictions = model.predict(imgs_perturbed)[:,target_class]\n",
        "    # This function should always be minimized, so return its complement if needed\n",
        "    return predictions if minimize else 1 - predictions"
      ]
    },
    {
      "cell_type": "code",
      "execution_count": null,
      "metadata": {
        "scrolled": true,
        "id": "4PTgb5SyL6Jc"
      },
      "outputs": [],
      "source": [
        "image_id = 384\n",
        "pixel = np.array([16, 13,  25, 48, 156])\n",
        "model = resnet\n",
        "\n",
        "true_class = y_test[image_id, 0]\n",
        "prior_confidence = model.predict_one(x_test[image_id])[true_class]\n",
        "confidence = predict_classes(pixel, x_test[image_id], true_class, model)[0]\n",
        "\n",
        "print('Confidence in true class', class_names[true_class], 'is', confidence)\n",
        "print('Prior confidence was', prior_confidence)\n",
        "helper.plot_image(perturb_image(pixel, x_test[image_id])[0])"
      ]
    },
    {
      "cell_type": "code",
      "source": [
        "def pixel_confidence(image_id):\n",
        "    img_original = x_test[image_id].copy()\n",
        "    img_confidence = x_test[image_id].copy()\n",
        "    target_class = y_test[image_id, 0]\n",
        "\n",
        "    helper.plot_image(img_original)\n",
        "\n",
        "    prior_confidence =  model.predict_one(img_original)[target_class]\n",
        "\n",
        "    diff_list = [[0,0,0]]\n",
        "    rgb = [0, 0, 0]\n",
        "\n",
        "    for x in range(32):\n",
        "        for y in range(32):\n",
        "          for i in range(3):\n",
        "              if img_original[x][y][i] >= 128:\n",
        "                rgb[i] = 0\n",
        "              else:\n",
        "                rgb[i] = 255\n",
        "\n",
        "          pixel = np.array([x, y,  rgb[0], rgb[1], rgb[2]])\n",
        "          perturbed_image = perturb_image(pixel, img_original)\n",
        "\n",
        "          after_confidence =  model.predict_one(perturbed_image)[target_class]\n",
        "          diff_confidence = abs(after_confidence - prior_confidence)\n",
        "\n",
        "          img_confidence = perturb_image(np.array([x, y,  255 - diff_confidence * 255, 255 - diff_confidence * 255, 255 - diff_confidence * 255]), img_confidence)\n",
        "\n",
        "    #       if diff_confidence > 0:\n",
        "    #           for diff_index in range(len(diff_list)):\n",
        "    #               if diff_confidence >= diff_list[diff_index][2]:\n",
        "    #                   diff_list.insert(diff_index, [x, y, diff_confidence])\n",
        "    #                   if (len(diff_list) > 30):\n",
        "    #                       diff_list.pop()\n",
        "    #                   break\n",
        "\n",
        "    # for i in range(30):\n",
        "    #     img_confidence = perturb_image(np.array([diff_list[i][0], diff_list[i][1],  (30- i) * 8.5, 0, 0]), img_confidence)\n",
        "    print(diff_list)\n",
        "    helper.plot_image(img_confidence)"
      ],
      "metadata": {
        "id": "ZkJYzXUZUVee"
      },
      "execution_count": null,
      "outputs": []
    },
    {
      "cell_type": "code",
      "source": [
        "model = resnet\n",
        "pixel_confidence(384)"
      ],
      "metadata": {
        "id": "nNjdL_bDV8L3"
      },
      "execution_count": null,
      "outputs": []
    },
    {
      "cell_type": "code",
      "source": [
        "def bound(num):\n",
        "    return int(max(0, min(31,num)))\n",
        "\n",
        "def pixel_change(x, y):\n",
        "    pixel_new = np.array([x, y,  0, 0, 0])\n",
        "\n",
        "    for i in range(3):\n",
        "        if img[x][y][i] >= 128:\n",
        "          pixel_new[2 + i] = 0\n",
        "        else:\n",
        "          pixel_new[2 + i] = 255\n",
        "\n",
        "    return pixel_new\n",
        "\n",
        "def pixel_find(image_id):\n",
        "    img = x_test[image_id].copy()\n",
        "    true_class = y_test[image_id, 0]\n",
        "\n",
        "    helper.plot_image(img)\n",
        "\n",
        "    v_x = 0 #속도\n",
        "    v_y = 0\n",
        "\n",
        "    diff_list = [[0,0,0]]\n",
        "    x = 0\n",
        "    y = 0\n",
        "\n",
        "    rate = 1\n",
        "    momentum_rate = 0.99\n",
        "\n",
        "    xy_list = [[7,7],[7,24],[24,7],[24,24]]\n",
        "\n",
        "    ori_con = model.predict_one(img)[true_class]\n",
        "\n",
        "\n",
        "    for xy in xy_list:\n",
        "        x = xy[0]\n",
        "        y = xy[1]\n",
        "\n",
        "\n",
        "        for n in range(200):\n",
        "            plus_x = ori_con - model.predict_one(perturb_image(pixel_change(bound(x+1), y), img))[true_class]\n",
        "            minus_x = ori_con - model.predict_one(perturb_image(pixel_change(bound(x-1), y), img))[true_class]\n",
        "\n",
        "            diff_x = plus_x - minus_x\n",
        "            print(\"diff_x: {0}\".format(diff_x))\n",
        "\n",
        "            plus_y = ori_con - model.predict_one(perturb_image(pixel_change(x, bound(y+1)), img))[true_class]\n",
        "            minus_y = ori_con - model.predict_one(perturb_image(pixel_change(x, bound(y-1)), img))[true_class]\n",
        "\n",
        "            diff_y = plus_y - minus_y\n",
        "            print(\"diff_x: {0}\".format(diff_x))\n",
        "\n",
        "\n",
        "            v_x = momentum_rate * v_x + diff_x * rate\n",
        "            v_y = momentum_rate * v_y + diff_y * rate\n",
        "\n",
        "            new_x = bound(x + v_x)\n",
        "            new_y = bound(y + v_y)\n",
        "\n",
        "            if (new_x == x and new_y == y):\n",
        "                break\n",
        "\n",
        "            x = new_x\n",
        "            y = new_y\n",
        "\n",
        "        print(\" ==================== x, y: ({0}, {1})  ==================== \".format(x, y))\n"
      ],
      "metadata": {
        "id": "vlCMsKXRiVFm"
      },
      "execution_count": null,
      "outputs": []
    },
    {
      "cell_type": "code",
      "source": [
        "model = resnet\n",
        "image_id = 384\n",
        "img = x_test[image_id].copy()\n",
        "pixel_find(image_id)"
      ],
      "metadata": {
        "id": "fMzi77XP8wAg"
      },
      "execution_count": null,
      "outputs": []
    },
    {
      "cell_type": "code",
      "source": [
        "from matplotlib import pyplot as plt\n",
        "from mpl_toolkits.mplot3d import Axes3D\n",
        "\n",
        "fig = plt.figure(figsize=(8, 8))\n",
        "ax = fig.add_subplot(111, projection='3d')\n",
        "\n",
        "# Axes의 타이틀을 설정\n",
        "ax.set_title(\"Graph\", size = 20)\n",
        "\n",
        "# 축 라벨을 설정\n",
        "ax.set_xlabel(\"x\", size = 14)\n",
        "ax.set_ylabel(\"y\", size = 14)\n",
        "ax.set_zlabel(\"confidence\", size = 14)"
      ],
      "metadata": {
        "id": "Uuqu-JCCD89T"
      },
      "execution_count": null,
      "outputs": []
    },
    {
      "cell_type": "code",
      "source": [
        "def one_color_graph(pixel, img_id, model, true_class, color):\n",
        "    img = x_test[img_id]\n",
        "    color_list = []\n",
        "    confidence_list = []\n",
        "\n",
        "    # 그래프의 타이틀을 설정\n",
        "    plt.title(\"id:{0} model:{1} ({2}, {3}), ({4}, {5}, {6})\".format(img_id, model.name, pixel[0], pixel[1], pixel[2], pixel[3], pixel[4]), size = 10)\n",
        "\n",
        "\n",
        "    # color 인자로 변경할 값 찾기\n",
        "    if color == 'r':\n",
        "        color_num = 2\n",
        "    elif color == 'g':\n",
        "        color_num = 3\n",
        "    elif color == 'b':\n",
        "        color_num = 4\n",
        "\n",
        "    for rgb in range(0, 255, step):\n",
        "        pixel[color_num] = rgb\n",
        "\n",
        "        imgs_perturbed = perturb_image(pixel, img)\n",
        "        color_list.append(rgb)\n",
        "        predictions = model.predict_one(imgs_perturbed)[true_class]\n",
        "        confidence_list.append(predictions)\n",
        "\n",
        "    plt.plot(color_list, confidence_list, color)\n",
        "    plt.show()\n",
        "\n",
        "def two_color_graph(pixel, img_id, model, true_class, color_1, color_2):\n",
        "    img = x_test[img_id]\n",
        "    color_list_x = []\n",
        "    color_list_y = []\n",
        "    confidence_list = []\n",
        "\n",
        "    if color_1 == 'r':\n",
        "        color_num_1 = 2\n",
        "    elif color_1 == 'g':\n",
        "        color_num_1 = 3\n",
        "    elif color_1 == 'b':\n",
        "        color_num_1 = 4\n",
        "\n",
        "    if color_2 == 'r':\n",
        "        color_num_2 = 2\n",
        "    elif color_2 == 'g':\n",
        "        color_num_2 = 3\n",
        "    elif color_2 == 'b':\n",
        "        color_num_2 = 4\n",
        "\n",
        "    fig = plt.figure(figsize=(8, 8))\n",
        "    ax = fig.add_subplot(111, projection='3d')\n",
        "\n",
        "    # Axes의 타이틀을 설정\n",
        "    ax.set_title(\"id:{0} model:{1} ({2}, {3}), ({4}, {5}, {6})\".format(img_id, model.name, pixel[0], pixel[1], pixel[2], pixel[3], pixel[4]), size = 10)\n",
        "\n",
        "    # 축 라벨을 설정\n",
        "    ax.set_xlabel(color_1, size = 14)\n",
        "    ax.set_ylabel(color_2, size = 14)\n",
        "    ax.set_zlabel(\"confidence\", size = 14)\n",
        "\n",
        "    for rgb_x in range(0, 255, step):\n",
        "      for rgb_y in range(0, 255, step):\n",
        "          pixel[color_num_1] = rgb_x\n",
        "          pixel[color_num_2] = rgb_y\n",
        "\n",
        "          imgs_perturbed = perturb_image(pixel, img)\n",
        "          color_list_x.append(rgb_x)\n",
        "          color_list_y.append(rgb_y)\n",
        "          predictions = model.predict_one(imgs_perturbed)[true_class]\n",
        "          confidence_list.append(predictions)\n",
        "\n",
        "    ax.scatter(color_list_x, color_list_y, confidence_list, 'r', alpha = 0.5)\n",
        "\n",
        "def three_color_graph(pixel, img, model, true_class):\n",
        "    fig = plt.figure(figsize=(8, 8))\n",
        "    ax = fig.add_subplot(111, projection='3d')\n",
        "\n",
        "    # Axes의 타이틀을 설정\n",
        "    ax.set_title(\"id:{0} model:{1} ({2}, {3})\".format(img_id, model.name, pixel[0], pixel[1]), size = 10)\n",
        "\n",
        "    # 축 라벨을 설정\n",
        "    ax.set_xlabel(\"r\", size = 14)\n",
        "    ax.set_ylabel(\"g\", size = 14)\n",
        "    ax.set_zlabel(\"b\", size = 14)\n",
        "\n",
        "    for r in range(0, 255, step):\n",
        "      pixel[2] = r\n",
        "      for g in range(0, 255, step):\n",
        "          pixel[3] = g\n",
        "          for b in range(0, 255, step):\n",
        "              pixel[4] = b\n",
        "\n",
        "              imgs_perturbed = perturb_image(pixel, img)\n",
        "              predictions = model.predict_one(imgs_perturbed)[true_class]\n",
        "              ax.scatter(r, g, b, 'r', alpha = predictions)"
      ],
      "metadata": {
        "id": "HnnHrwEy2UMs"
      },
      "execution_count": null,
      "outputs": []
    },
    {
      "cell_type": "code",
      "source": [
        "image_id = 4\n",
        "\n",
        "pixel = np.array([16, 17,  255, 0, 0])\n",
        "\n",
        "helper.plot_image(perturb_image(pixel, x_test[image_id]))"
      ],
      "metadata": {
        "id": "UklAF-KcJpVp"
      },
      "execution_count": null,
      "outputs": []
    },
    {
      "cell_type": "code",
      "source": [
        "image_id = 384\n",
        "model = resnet\n",
        "\n",
        "print(model.name)"
      ],
      "metadata": {
        "id": "b2FgidkVAxci",
        "colab": {
          "base_uri": "https://localhost:8080/"
        },
        "outputId": "0907f133-f425-406d-a1fb-09b0afa77cf4"
      },
      "execution_count": null,
      "outputs": [
        {
          "output_type": "stream",
          "name": "stdout",
          "text": [
            "resnet\n"
          ]
        }
      ]
    },
    {
      "cell_type": "code",
      "source": [
        "step = 8\n",
        "image_id = 384\n",
        "model = resnet\n",
        "\n",
        "#['airplane', 'automobile', 'bird', 'cat', 'deer', 'dog', 'frog', 'horse', 'ship', 'truck']\n",
        "\n",
        "for i in range(6, 10):\n",
        "    true_class = i\n",
        "    print(class_names[true_class])\n",
        "\n",
        "    pixel = np.array([16, 13,  250, 247, 248])\n",
        "    two_color_graph(pixel, image_id, model, true_class, 'g', 'b')"
      ],
      "metadata": {
        "id": "-6bpcwDw47Lb"
      },
      "execution_count": null,
      "outputs": []
    },
    {
      "cell_type": "code",
      "source": [
        "#one_color_graph(pixel, image_id, model, true_class, 'r')\n",
        "#one_color_graph(pixel, image_id, model, true_class, 'g')\n",
        "#one_color_graph(pixel, image_id, model, true_class, 'b')\n",
        "step = 8\n",
        "model = resnet\n",
        "pixel = np.array([17, 19,  161, 0, 0])\n",
        "#two_color_graph(pixel, image_id, model, true_class, 'r', 'g')\n",
        "#two_color_graph(pixel, image_id, model, true_class, 'r', 'b')\n",
        "two_color_graph(pixel, image_id, model, true_class, 'g', 'b')"
      ],
      "metadata": {
        "id": "NtpsG2fTCBt9"
      },
      "execution_count": null,
      "outputs": []
    },
    {
      "cell_type": "code",
      "source": [
        "step = 8\n",
        "model = resnet\n",
        "image_id = 384\n",
        "true_class = y_test[image_id, 0]\n",
        "\n",
        "for i in range(0, 70, 10):\n",
        "    pixel = np.array([16, 12,  0, 0, i])\n",
        "    two_color_graph(pixel, image_id, model, true_class, 'r', 'g')"
      ],
      "metadata": {
        "id": "sQKrCb1tB5JE"
      },
      "execution_count": null,
      "outputs": []
    },
    {
      "cell_type": "code",
      "source": [
        "for i in range(70, 140, 10):\n",
        "    pixel = np.array([16, 12,  0, 0, i])\n",
        "    two_color_graph(pixel, image_id, model, true_class, 'r', 'g')"
      ],
      "metadata": {
        "id": "K27CsATzrpOS"
      },
      "execution_count": null,
      "outputs": []
    },
    {
      "cell_type": "code",
      "source": [
        "for i in range(140, 210, 10):\n",
        "    pixel = np.array([16, 12,  0, 0, i])\n",
        "    two_color_graph(pixel, image_id, model, true_class, 'r', 'g')"
      ],
      "metadata": {
        "id": "-NkF-Ro0rpbl"
      },
      "execution_count": null,
      "outputs": []
    },
    {
      "cell_type": "code",
      "source": [
        "for i in range(210, 260, 10):\n",
        "    pixel = np.array([16, 12,  0, 0, i])\n",
        "    two_color_graph(pixel, image_id, model, true_class, 'r', 'g')"
      ],
      "metadata": {
        "id": "GS7P6yXUrpuR"
      },
      "execution_count": null,
      "outputs": []
    },
    {
      "cell_type": "code",
      "source": [
        "def hill_climbing(image_id, pixel):\n",
        "    img = x_test[image_id]\n",
        "    stride = 8\n",
        "    confidence = 1\n",
        "    node_start = pixel\n",
        "    selected_node = pixel\n",
        "\n",
        "    for i in range(100):\n",
        "        stuck = True\n",
        "        for r in range(-1, 2, 1):\n",
        "            for g in range(-1, 2, 1):\n",
        "                for b in range(-1, 2, 1):\n",
        "                    node = np.array([node_start[0], node_start[1], bound( node_start[2] + r * stride ), bound( node_start[3] + g * stride ), bound( node_start[4] + b * stride )])\n",
        "                    imgs_perturbed = perturb_image(node, img)\n",
        "                    predictions = model.predict_one(imgs_perturbed)[true_class]\n",
        "                    if predictions < confidence:\n",
        "                        selected_node = node\n",
        "                        confidence = predictions\n",
        "                        stuck = False\n",
        "                        print(predictions)\n",
        "        if stuck:\n",
        "            break\n",
        "        print(\"MOVE\")\n",
        "        node_start = selected_node\n",
        "\n",
        "    imgs_perturbed = perturb_image(node_start, img)\n",
        "    predictions = model.predict_one(imgs_perturbed)[true_class]\n",
        "    print(predictions)\n",
        "    print(node_start)\n",
        "\n",
        "def bound(num):\n",
        "    return max(0, min(255,num))\n"
      ],
      "metadata": {
        "id": "qpCJjAHfNyjw"
      },
      "execution_count": null,
      "outputs": []
    },
    {
      "cell_type": "code",
      "source": [
        "pixel = np.array([17, 13,  128, 128, 128])\n",
        "model = resnet\n",
        "image_id = 384\n",
        "true_class = y_test[image_id, 0]\n",
        "hill_climbing(image_id, pixel)"
      ],
      "metadata": {
        "id": "f_EeLQlUlaPk"
      },
      "execution_count": null,
      "outputs": []
    },
    {
      "cell_type": "code",
      "source": [
        "def gradient_descent(image_id, pixel):\n",
        "    img = x_test[image_id]\n",
        "    stride = 8\n",
        "    confidence = 1\n",
        "\n",
        "    x = pixel[0]\n",
        "    y = pixel[1]\n",
        "    r = pixel[2]\n",
        "    g = pixel[3]\n",
        "    b = pixel[4]\n",
        "\n",
        "    for i in range(100):\n",
        "        node = np.array([x, y, r, g, b])\n",
        "\n",
        "        print(\"x:{0}, y:{1}, ({2} {3}, {4}), confidence: {5})\".format(x, y, r, g, b, model.predict_one(perturb_image(node, img))[true_class]))\n",
        "        node_plus = np.array([x, y, bound(r + 1), g, b])\n",
        "        node_minus = np.array([x, y, bound(r - 1), g, b])\n",
        "\n",
        "        diff_r = model.predict_one(perturb_image(node_plus, img))[true_class] - model.predict_one(perturb_image(node_minus, img))[true_class]\n",
        "        #print(\"diff_r: {0}\".format(diff_r))\n",
        "\n",
        "        node_plus = np.array([x, y, r, bound(g + 1), b])\n",
        "        node_minus = np.array([x, y, r, bound(g - 1), b])\n",
        "\n",
        "        diff_g = model.predict_one(perturb_image(node_plus, img))[true_class] - model.predict_one(perturb_image(node_minus, img))[true_class]\n",
        "        #print(\"diff_g: {0}\".format(diff_g))\n",
        "\n",
        "        node_plus = np.array([x, y, r, g, bound(b + 1)])\n",
        "        node_minus = np.array([x, y, r, g, bound(b - 1)])\n",
        "\n",
        "        diff_b = model.predict_one(perturb_image(node_plus, img))[true_class] - model.predict_one(perturb_image(node_minus, img))[true_class]\n",
        "        #print(\"diff_b: {0}\".format(diff_b))\n",
        "\n",
        "        rate = 5000\n",
        "\n",
        "        new_r = bound(r - diff_r * rate)\n",
        "        new_g = bound(g - diff_g * rate)\n",
        "        new_b = bound(b - diff_b * rate)\n",
        "\n",
        "        if (new_r == r and new_g == g and new_b == b):\n",
        "            break\n",
        "\n",
        "        r = new_r\n",
        "        g = new_g\n",
        "        #b = new_b\n",
        "\n",
        "def bound(num):\n",
        "    return int(max(0, min(255,num)))"
      ],
      "metadata": {
        "id": "or0QikIIvXBK"
      },
      "execution_count": null,
      "outputs": []
    },
    {
      "cell_type": "code",
      "source": [
        "pixel = np.array([16, 13,  250, 247, 248])\n",
        "model = resnet\n",
        "image_id = 384\n",
        "true_class = y_test[image_id, 0]\n",
        "gradient_descent(image_id, pixel)"
      ],
      "metadata": {
        "id": "TVkTOijT6LTb"
      },
      "execution_count": null,
      "outputs": []
    },
    {
      "cell_type": "code",
      "source": [
        "def gradient_descent_momentum(image_id, pixel):\n",
        "    img = x_test[image_id]\n",
        "    true_class = y_test[image_id, 0]\n",
        "\n",
        "    x = pixel[0]\n",
        "    y = pixel[1]\n",
        "    r = pixel[2]\n",
        "    g = pixel[3]\n",
        "    b = pixel[4]\n",
        "\n",
        "    rate = 5000\n",
        "    momentum_rate = 0.99\n",
        "\n",
        "    v_r = 0 #속도\n",
        "    v_g = 0\n",
        "    v_b = 0\n",
        "\n",
        "    for i in range(100):\n",
        "        node = np.array([x, y, r, g, b])\n",
        "        ori_con = model.predict_one(perturb_image(node, img))[true_class]\n",
        "\n",
        "        if (ori_con < 0.5):\n",
        "            return True\n",
        "\n",
        "        print(\"x:{0}, y:{1}, rgb:({2}, {3}, {4}), confidence: {5})\".format(x, y, r, g, b, ori_con))\n",
        "        node_plus = np.array([x, y, bound(r + 1), g, b])\n",
        "        node_minus = np.array([x, y, bound(r - 1), g, b])\n",
        "\n",
        "        diff_r = model.predict_one(perturb_image(node_plus, img))[true_class] - model.predict_one(perturb_image(node_minus, img))[true_class]\n",
        "        print(\"diff_r: {0}\".format(diff_r))\n",
        "\n",
        "        node_plus = np.array([x, y, r, bound(g + 1), b])\n",
        "        node_minus = np.array([x, y, r, bound(g - 1), b])\n",
        "\n",
        "        diff_g = model.predict_one(perturb_image(node_plus, img))[true_class] - model.predict_one(perturb_image(node_minus, img))[true_class]\n",
        "        print(\"diff_g: {0}\".format(diff_g))\n",
        "\n",
        "        node_plus = np.array([x, y, r, g, bound(b + 1)])\n",
        "        node_minus = np.array([x, y, r, g, bound(b - 1)])\n",
        "\n",
        "        diff_b = model.predict_one(perturb_image(node_plus, img))[true_class] - model.predict_one(perturb_image(node_minus, img))[true_class]\n",
        "        print(\"diff_b: {0}\".format(diff_b))\n",
        "\n",
        "        v_r = momentum_rate * v_r - diff_r * rate\n",
        "        v_g = momentum_rate * v_g - diff_g * rate\n",
        "        v_b = momentum_rate * v_b - diff_b * rate\n",
        "\n",
        "        new_r = bound(r + v_r)\n",
        "        new_g = bound(g + v_g)\n",
        "        new_b = bound(b + v_b)\n",
        "\n",
        "        if (new_r == r and new_g == g and new_b == b):\n",
        "            break\n",
        "\n",
        "        r = new_r\n",
        "        g = new_g\n",
        "        b = new_b\n",
        "\n",
        "    return False\n",
        "\n",
        "def bound(num):\n",
        "    return int(max(0, min(255,num)))"
      ],
      "metadata": {
        "id": "iAcU1TdVAU-v"
      },
      "execution_count": null,
      "outputs": []
    },
    {
      "cell_type": "code",
      "source": [
        "def pixel_attackable(image_id):\n",
        "    img_original = x_test[image_id].copy()\n",
        "    img_map = x_test[image_id].copy()\n",
        "    true_class = y_test[image_id, 0]\n",
        "\n",
        "    helper.plot_image(img_original)\n",
        "\n",
        "    point = [[0,0,0],[0,0,255],[0,255,0],[255,0,0],[0,255,255],[255,0,255],[255,255,0],[255,255,255]]\n",
        "\n",
        "    for x in range(32):\n",
        "        for y in range(32):\n",
        "            succese = False\n",
        "            for p in point:\n",
        "                pixel = np.array([x, y, p[0], p[1], p[2]])\n",
        "                con = model.predict_one(perturb_image(pixel, img_original))[true_class]\n",
        "                if (con < 0.5):\n",
        "                    succese = True\n",
        "                    break\n",
        "\n",
        "            if (succese):\n",
        "                img_map = perturb_image(np.array([x, y,  255, 255, 255]), img_map)\n",
        "                print(\"%%%%%%%%%%%%%%%%%%%%%%%%%%%%%%% x:{0}, y:{1}, SUCCESE:(TRUE) %%%%%%%%%%%%%%%%%%%%%%%%%%%%%%%\".format(x, y))\n",
        "            else:\n",
        "                img_map = perturb_image(np.array([x, y,  0, 0, 0]), img_map)\n",
        "                print(\"%%%%%%%%%%%%%%%%%%%%%%%%%%%%%%% x:{0}, y:{1}, SUCCESE:(FALSE) %%%%%%%%%%%%%%%%%%%%%%%%%%%%%%%\".format(x, y))\n",
        "\n",
        "    helper.plot_image(img_map)"
      ],
      "metadata": {
        "id": "iFqS1uqwqxgb"
      },
      "execution_count": null,
      "outputs": []
    },
    {
      "cell_type": "code",
      "source": [
        "pixel = np.array([16, 13, 229, 224, 217])\n",
        "model = resnet\n",
        "image_id = 384\n",
        "gradient_descent_momentum(image_id, pixel)"
      ],
      "metadata": {
        "id": "lBpsWrfCDFLN"
      },
      "execution_count": null,
      "outputs": []
    },
    {
      "cell_type": "code",
      "source": [
        "model = resnet\n",
        "image_id = 1470\n",
        "pixel_attackable(image_id)"
      ],
      "metadata": {
        "id": "DOoVo1wVs-Q0"
      },
      "execution_count": null,
      "outputs": []
    },
    {
      "cell_type": "code",
      "source": [
        "def gradient_descent_momentum_target(image_id, pixel, target_class):\n",
        "    img = x_test[image_id]\n",
        "\n",
        "    x = pixel[0]\n",
        "    y = pixel[1]\n",
        "    r = pixel[2]\n",
        "    g = pixel[3]\n",
        "    b = pixel[4]\n",
        "\n",
        "    rate = 1000\n",
        "    momentum_rate = 0.99\n",
        "\n",
        "    v_r = 0 #속도\n",
        "    v_g = 0\n",
        "    v_b = 0\n",
        "\n",
        "    for i in range(1000):\n",
        "        node = np.array([x, y, r, g, b])\n",
        "\n",
        "        print(\"x:{0}, y:{1}, rgb:({2}, {3}, {4}), confidence: {5})\".format(x, y, r, g, b, model.predict_one(perturb_image(node, img))[target_class]))\n",
        "        node_plus = np.array([x, y, bound(r + 1), g, b])\n",
        "        node_minus = np.array([x, y, bound(r - 1), g, b])\n",
        "\n",
        "        diff_r = model.predict_one(perturb_image(node_plus, img))[target_class] - model.predict_one(perturb_image(node_minus, img))[target_class]\n",
        "        #print(\"diff_r: {0}\".format(diff_r))\n",
        "\n",
        "        node_plus = np.array([x, y, r, bound(g + 1), b])\n",
        "        node_minus = np.array([x, y, r, bound(g - 1), b])\n",
        "\n",
        "        diff_g = model.predict_one(perturb_image(node_plus, img))[target_class] - model.predict_one(perturb_image(node_minus, img))[target_class]\n",
        "        #print(\"diff_g: {0}\".format(diff_g))\n",
        "\n",
        "        node_plus = np.array([x, y, r, g, bound(b + 1)])\n",
        "        node_minus = np.array([x, y, r, g, bound(b - 1)])\n",
        "\n",
        "        diff_b = model.predict_one(perturb_image(node_plus, img))[target_class] - model.predict_one(perturb_image(node_minus, img))[target_class]\n",
        "        #print(\"diff_b: {0}\".format(diff_b))\n",
        "\n",
        "        v_r = momentum_rate * v_r + diff_r * rate\n",
        "        v_g = momentum_rate * v_g + diff_g * rate\n",
        "        v_b = momentum_rate * v_b + diff_b * rate\n",
        "\n",
        "        new_r = bound(r + v_r)\n",
        "        new_g = bound(g + v_g)\n",
        "        new_b = bound(b + v_b)\n",
        "\n",
        "        if (new_r == r and new_g == g and new_b == b):\n",
        "            break\n",
        "\n",
        "        r = new_r\n",
        "        g = new_g\n",
        "        b = new_b\n",
        "\n",
        "def bound(num):\n",
        "    return int(max(0, min(255,num)))"
      ],
      "metadata": {
        "id": "Pl4y1d60s10e"
      },
      "execution_count": null,
      "outputs": []
    },
    {
      "cell_type": "code",
      "source": [
        "pixel = np.array([16, 13,  128, 128, 128])\n",
        "model = resnet\n",
        "image_id = 384\n",
        "true_class = y_test[image_id, 0]\n",
        "gradient_descent_momentum_target(image_id, pixel, 5)"
      ],
      "metadata": {
        "id": "vHvU-aSxtQ1T"
      },
      "execution_count": null,
      "outputs": []
    }
  ],
  "metadata": {
    "kernelspec": {
      "display_name": "Python 3",
      "name": "python3"
    },
    "language_info": {
      "codemirror_mode": {
        "name": "ipython",
        "version": 3
      },
      "file_extension": ".py",
      "mimetype": "text/x-python",
      "name": "python",
      "nbconvert_exporter": "python",
      "pygments_lexer": "ipython3",
      "version": "3.7.1"
    },
    "colab": {
      "provenance": []
    }
  },
  "nbformat": 4,
  "nbformat_minor": 0
}