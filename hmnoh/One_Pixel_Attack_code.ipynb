{
  "cells": [
    {
      "cell_type": "code",
      "execution_count": null,
      "metadata": {
        "id": "tXMlBYFwL6JX",
        "colab": {
          "base_uri": "https://localhost:8080/"
        },
        "outputId": "fcfaf30c-5abc-415f-bd4a-cee035d2c4ad"
      },
      "outputs": [
        {
          "output_type": "stream",
          "name": "stdout",
          "text": [
            "Cloning into 'one-pixel-attack-keras'...\n",
            "remote: Enumerating objects: 385, done.\u001b[K\n",
            "remote: Counting objects: 100% (45/45), done.\u001b[K\n",
            "remote: Compressing objects: 100% (28/28), done.\u001b[K\n",
            "remote: Total 385 (delta 22), reused 35 (delta 17), pack-reused 340\u001b[K\n",
            "Receiving objects: 100% (385/385), 45.38 MiB | 19.62 MiB/s, done.\n",
            "Resolving deltas: 100% (220/220), done.\n",
            "renamed 'one-pixel-attack-keras/1_one_pixel_attack_cifar10.ipynb' -> './1_one_pixel_attack_cifar10.ipynb'\n",
            "renamed 'one-pixel-attack-keras/2_one-pixel-attack-imagenet.ipynb' -> './2_one-pixel-attack-imagenet.ipynb'\n",
            "renamed 'one-pixel-attack-keras/attack.py' -> './attack.py'\n",
            "renamed 'one-pixel-attack-keras/CONTRIBUTING.md' -> './CONTRIBUTING.md'\n",
            "renamed 'one-pixel-attack-keras/data' -> './data'\n",
            "renamed 'one-pixel-attack-keras/differential_evolution.py' -> './differential_evolution.py'\n",
            "renamed 'one-pixel-attack-keras/helper.py' -> './helper.py'\n",
            "renamed 'one-pixel-attack-keras/images' -> './images'\n",
            "renamed 'one-pixel-attack-keras/LICENSE' -> './LICENSE'\n",
            "renamed 'one-pixel-attack-keras/networks' -> './networks'\n",
            "renamed 'one-pixel-attack-keras/README.md' -> './README.md'\n",
            "renamed 'one-pixel-attack-keras/requirements.txt' -> './requirements.txt'\n",
            "renamed 'one-pixel-attack-keras/train.py' -> './train.py'\n"
          ]
        }
      ],
      "source": [
        "# If running in Google Colab, import files\n",
        "try:\n",
        "    import google.colab\n",
        "    in_colab = True\n",
        "except:\n",
        "    in_colab = False\n",
        "\n",
        "if in_colab:\n",
        "    !git clone https://github.com/aiken516/one-pixel-attack-keras.git\n",
        "    !mv -v one-pixel-attack-keras/* .\n",
        "    !rm -rf one-pixel-attack-keras\n",
        "\n",
        "# Python Libraries\n",
        "%matplotlib inline\n",
        "import pickle\n",
        "import numpy as np\n",
        "import pandas as pd\n",
        "import matplotlib\n",
        "from keras.datasets import cifar10\n",
        "from keras import backend as K\n",
        "\n",
        "# Custom Networks\n",
        "from networks.lenet import LeNet\n",
        "#from networks.pure_cnn import PureCnn\n",
        "from networks.network_in_network import NetworkInNetwork\n",
        "from networks.resnet import ResNet\n",
        "from networks.densenet import DenseNet\n",
        "from networks.wide_resnet import WideResNet\n",
        "from networks.capsnet import CapsNet\n",
        "\n",
        "# Helper functions\n",
        "from differential_evolution import differential_evolution\n",
        "import helper\n",
        "\n",
        "import time\n",
        "\n",
        "matplotlib.style.use('ggplot')\n",
        "np.random.seed(100)"
      ]
    },
    {
      "cell_type": "markdown",
      "metadata": {
        "id": "wLpB45gxL6JY"
      },
      "source": [
        "## Load Dataset"
      ]
    },
    {
      "cell_type": "markdown",
      "metadata": {
        "id": "G4VxN7lYL6JY"
      },
      "source": [
        "For this attack, we will use the [Cifar10 dataset](https://www.cs.toronto.edu/~kriz/cifar.html) packaged by Keras. The task of the dataset is to correctly classify a 32x32 pixel image in 1 of 10 categories (e.g., bird, deer, truck).\n",
        "\n",
        "The code below will load the Cifar10 dataset. Keras will need to download the dataset if it is not cached locally already."
      ]
    },
    {
      "cell_type": "code",
      "execution_count": null,
      "metadata": {
        "id": "p2W475HxL6JZ",
        "colab": {
          "base_uri": "https://localhost:8080/"
        },
        "outputId": "fb33ef06-4b8e-4d95-9fd6-c22b68500963"
      },
      "outputs": [
        {
          "output_type": "stream",
          "name": "stdout",
          "text": [
            "Downloading data from https://www.cs.toronto.edu/~kriz/cifar-10-python.tar.gz\n",
            "170498071/170498071 [==============================] - 10s 0us/step\n"
          ]
        }
      ],
      "source": [
        "(x_train, y_train), (x_test, y_test) = cifar10.load_data()"
      ]
    },
    {
      "cell_type": "code",
      "execution_count": null,
      "metadata": {
        "id": "FO9iBXBcL6JZ"
      },
      "outputs": [],
      "source": [
        "class_names = ['airplane', 'automobile', 'bird', 'cat', 'deer', 'dog', 'frog', 'horse', 'ship', 'truck']"
      ]
    },
    {
      "cell_type": "code",
      "execution_count": null,
      "metadata": {
        "id": "JP-_mWqfL6Ja"
      },
      "outputs": [],
      "source": [
        "def perturb_image(xs, img):\n",
        "    # If this function is passed just one perturbation vector,\n",
        "    # pack it in a list to keep the computation the same\n",
        "    if xs.ndim < 2:\n",
        "        xs = np.array([xs])\n",
        "\n",
        "    # Copy the image n == len(xs) times so that we can\n",
        "    # create n new perturbed images\n",
        "    tile = [len(xs)] + [1]*(xs.ndim+1)\n",
        "    imgs = np.tile(img, tile)\n",
        "\n",
        "    # Make sure to floor the members of xs as int types\n",
        "    xs = xs.astype(int)\n",
        "\n",
        "    for x,img in zip(xs, imgs):\n",
        "        # Split x into an array of 5-tuples (perturbation pixels)\n",
        "        # i.e., [[x,y,r,g,b], ...]\n",
        "        pixels = np.split(x, len(x) // 5)\n",
        "        for pixel in pixels:\n",
        "            # At each pixel's x,y position, assign its rgb value\n",
        "            x_pos, y_pos, *rgb = pixel\n",
        "            img[x_pos, y_pos] = rgb\n",
        "\n",
        "    return imgs"
      ]
    },
    {
      "cell_type": "code",
      "execution_count": null,
      "metadata": {
        "id": "FFmZle1xL6Jb",
        "colab": {
          "base_uri": "https://localhost:8080/"
        },
        "outputId": "2c84e7fb-53e3-4be4-f890-9449ae529635"
      },
      "outputs": [
        {
          "output_type": "stream",
          "name": "stdout",
          "text": [
            "Successfully loaded lenet\n",
            "Successfully loaded resnet\n"
          ]
        }
      ],
      "source": [
        "lenet = LeNet()\n",
        "resnet = ResNet()\n",
        "\n",
        "models = [lenet, resnet] #, resnet]\n",
        "\n",
        "## Uncomment below to load more models to play with. Make sure the model files exist by training or downloading them.\n",
        "\n",
        "# lenet = LeNet()\n",
        "# pure_cnn = PureCnn()\n",
        "# net_in_net = NetworkInNetwork()\n",
        "# resnet = ResNet()\n",
        "# densenet = DenseNet()\n",
        "# wide_resnet = WideResNet()\n",
        "# capsnet = CapsNet()\n",
        "\n",
        "# models = [lenet, pure_cnn, net_in_net, resnet, densenet, wide_resnet, capsnet]"
      ]
    },
    {
      "cell_type": "code",
      "source": [
        "def pixel_confidence(image_id):\n",
        "    img_original = x_test[image_id].copy()\n",
        "    target_class = y_test[image_id, 0]\n",
        "    print(\"target_class: {0}\".format(target_class))\n",
        "\n",
        "    helper.plot_image(img_original)\n",
        "\n",
        "    prior_confidence =  model.predict_one(img_original)[target_class]\n",
        "    print(\"prior_confidence: {0}\".format(prior_confidence))\n",
        "\n",
        "    diff_list = [[0,0,0]]\n",
        "    rgb = [0, 0, 0]\n",
        "\n",
        "    array = np.empty((0, 32, 32, 3))\n",
        "\n",
        "    for x in range(32):\n",
        "        for y in range(32):\n",
        "          for i in range(3):\n",
        "              if img_original[x][y][i] >= 128:\n",
        "                rgb[i] = 0\n",
        "              else:\n",
        "                rgb[i] = 255\n",
        "\n",
        "          pixel = np.array([x, y,  rgb[0], rgb[1], rgb[2]])\n",
        "          perturbed_image = perturb_image(pixel, img_original)\n",
        "\n",
        "          array = np.append(array, np.array((perturbed_image)), axis=0)\n",
        "\n",
        "    processed = model.color_process(array)\n",
        "    result = model._model.predict(processed, batch_size=1024,verbose=0)\n",
        "\n",
        "    for i in range(1024):\n",
        "        after_confidence =  result[i][target_class]\n",
        "        #print(\"after_confidence: {0}\".format(after_confidence))\n",
        "\n",
        "        diff_confidence = abs(after_confidence - prior_confidence)\n",
        "        #print(\"diff_confidence: {0}\".format(diff_confidence))\n",
        "\n",
        "        if diff_confidence > 0:\n",
        "            for diff_index in range(len(diff_list)):\n",
        "                if diff_confidence >= diff_list[diff_index][1]:\n",
        "                    diff_list.insert(diff_index, [i, diff_confidence])\n",
        "                    if (len(diff_list) > 30):\n",
        "                        diff_list.pop()\n",
        "                    break\n",
        "\n",
        "    return diff_list[0][0]"
      ],
      "metadata": {
        "id": "YxvtcocmIkmJ"
      },
      "execution_count": null,
      "outputs": []
    },
    {
      "cell_type": "code",
      "source": [
        "def gradient_descent_momentum(image_id, pixel):\n",
        "    img = x_test[image_id].copy()\n",
        "    true_class = y_test[image_id, 0]\n",
        "\n",
        "    x = pixel[0]\n",
        "    y = pixel[1]\n",
        "    r = pixel[2]\n",
        "    g = pixel[3]\n",
        "    b = pixel[4]\n",
        "\n",
        "    rate = 5000\n",
        "    momentum_rate = 0.99\n",
        "\n",
        "    v_r = 0 #속도\n",
        "    v_g = 0\n",
        "    v_b = 0\n",
        "\n",
        "    for i in range(100):\n",
        "        node = np.array([x, y, r, g, b])\n",
        "        ori_con = model.predict_one(perturb_image(node, img))[true_class]\n",
        "\n",
        "        #if (ori_con < 0.5):\n",
        "        #    return True\n",
        "\n",
        "        print(\"x:{0}, y:{1}, rgb:({2}, {3}, {4}), confidence: {5})\".format(x, y, r, g, b, ori_con))\n",
        "        array = np.empty((0, 32, 32, 3))\n",
        "\n",
        "        array = np.append(array, np.array((perturb_image(np.array([x, y, bound(r + 1), g, b]), img))), axis=0)\n",
        "        array = np.append(array, np.array((perturb_image(np.array([x, y, bound(r - 1), g, b]), img))), axis=0)\n",
        "        array = np.append(array, np.array((perturb_image(np.array([x, y, r, bound(g + 1), b]), img))), axis=0)\n",
        "        array = np.append(array, np.array((perturb_image(np.array([x, y, r, bound(g - 1), b]), img))), axis=0)\n",
        "        array = np.append(array, np.array((perturb_image(np.array([x, y, r, g, bound(b + 1)]), img))), axis=0)\n",
        "        array = np.append(array, np.array((perturb_image(np.array([x, y, r, g, bound(b - 1)]), img))), axis=0)\n",
        "\n",
        "        processed = model.color_process(array)\n",
        "        result = model._model.predict(processed, batch_size=6, verbose=0)\n",
        "\n",
        "        diff_r = result[0][true_class] - result[1][true_class]\n",
        "        print(\"diff_r: {0}\".format(diff_r))\n",
        "\n",
        "        diff_g = result[2][true_class] - result[3][true_class]\n",
        "        print(\"diff_g: {0}\".format(diff_g))\n",
        "\n",
        "        diff_b = result[4][true_class] - result[5][true_class]\n",
        "        print(\"diff_b: {0}\".format(diff_b))\n",
        "\n",
        "        v_r = momentum_rate * v_r - diff_r * rate\n",
        "        v_g = momentum_rate * v_g - diff_g * rate\n",
        "        v_b = momentum_rate * v_b - diff_b * rate\n",
        "\n",
        "        if (abs(diff_r) + abs(diff_g) + abs(diff_b) < 0.0001):\n",
        "            break\n",
        "\n",
        "        new_r = bound(r + v_r)\n",
        "        new_g = bound(g + v_g)\n",
        "        new_b = bound(b + v_b)\n",
        "\n",
        "        #if (new_r == r and new_g == g and new_b == b):\n",
        "        #    break\n",
        "\n",
        "        r = new_r\n",
        "        g = new_g\n",
        "        b = new_b\n",
        "\n",
        "    helper.plot_image(perturb_image(np.array([x, y, r, g, b]), img))\n",
        "    print(\"Attack Confidence:\" + str(model.predict_one(perturb_image(np.array([x, y, r, g, b]), img))[true_class]))\n",
        "\n",
        "def bound(num):\n",
        "    return int(max(0, min(255,num)))"
      ],
      "metadata": {
        "id": "iAcU1TdVAU-v"
      },
      "execution_count": null,
      "outputs": []
    },
    {
      "cell_type": "code",
      "source": [
        "model = resnet\n",
        "image_id = 9\n",
        "\n",
        "diff_num = pixel_confidence(image_id)\n",
        "print(diff_num)\n",
        "x = diff_num // 32\n",
        "y = diff_num % 32\n",
        "pixel = np.array([x, y, x_test[image_id][x][y][0], x_test[image_id][x][y][1], x_test[image_id][x][y][2]])\n",
        "\n",
        "gradient_descent_momentum(image_id, pixel)"
      ],
      "metadata": {
        "id": "lBpsWrfCDFLN"
      },
      "execution_count": null,
      "outputs": []
    },
    {
      "cell_type": "code",
      "source": [
        "def gradient_ascent_momentum_target(image_id, pixel, target_class):\n",
        "    img = x_test[image_id]\n",
        "\n",
        "    x = pixel[0]\n",
        "    y = pixel[1]\n",
        "    r = pixel[2]\n",
        "    g = pixel[3]\n",
        "    b = pixel[4]\n",
        "\n",
        "    rate = 1000\n",
        "    momentum_rate = 0.99\n",
        "\n",
        "    v_r = 0 #속도\n",
        "    v_g = 0\n",
        "    v_b = 0\n",
        "\n",
        "    for i in range(1000):\n",
        "        node = np.array([x, y, r, g, b])\n",
        "\n",
        "        print(\"x:{0}, y:{1}, rgb:({2}, {3}, {4}), confidence: {5})\".format(x, y, r, g, b, model.predict_one(perturb_image(node, img))[target_class]))\n",
        "\n",
        "        array = np.empty((0, 32, 32, 3))\n",
        "\n",
        "        array = np.append(array, np.array((perturb_image(np.array([x, y, bound(r + 1), g, b]), img))), axis=0)\n",
        "        array = np.append(array, np.array((perturb_image(np.array([x, y, bound(r - 1), g, b]), img))), axis=0)\n",
        "        array = np.append(array, np.array((perturb_image(np.array([x, y, r, bound(g + 1), b]), img))), axis=0)\n",
        "        array = np.append(array, np.array((perturb_image(np.array([x, y, r, bound(g - 1), b]), img))), axis=0)\n",
        "        array = np.append(array, np.array((perturb_image(np.array([x, y, r, g, bound(b + 1)]), img))), axis=0)\n",
        "        array = np.append(array, np.array((perturb_image(np.array([x, y, r, g, bound(b - 1)]), img))), axis=0)\n",
        "\n",
        "        processed = model.color_process(array)\n",
        "        result = model._model.predict(processed, batch_size=6, verbose=0)\n",
        "\n",
        "        diff_r = result[0][target_class] - result[1][target_class]\n",
        "        #print(\"diff_r: {0}\".format(diff_r))\n",
        "\n",
        "        diff_g = result[2][target_class] - result[3][target_class]\n",
        "        #print(\"diff_g: {0}\".format(diff_g))\n",
        "\n",
        "        diff_b = result[4][target_class] - result[5][target_class]\n",
        "        #print(\"diff_b: {0}\".format(diff_b))\n",
        "\n",
        "        v_r = momentum_rate * v_r + diff_r * rate\n",
        "        v_g = momentum_rate * v_g + diff_g * rate\n",
        "        v_b = momentum_rate * v_b + diff_b * rate\n",
        "\n",
        "        new_r = bound(r + v_r)\n",
        "        new_g = bound(g + v_g)\n",
        "        new_b = bound(b + v_b)\n",
        "\n",
        "        if (new_r == r and new_g == g and new_b == b):\n",
        "            break\n",
        "\n",
        "        r = new_r\n",
        "        g = new_g\n",
        "        b = new_b\n",
        "\n",
        "    helper.plot_image(perturb_image(np.array([x, y, r, g, b]), img))\n",
        "    print(\"Attack Confidence:\" + str(model.predict_one(perturb_image(np.array([x, y, r, g, b]), img))[target_class]))\n",
        "\n",
        "def bound(num):\n",
        "    return int(max(0, min(255,num)))"
      ],
      "metadata": {
        "id": "Pl4y1d60s10e"
      },
      "execution_count": null,
      "outputs": []
    },
    {
      "cell_type": "code",
      "source": [
        "model = resnet\n",
        "image_id = 384\n",
        "\n",
        "diff_num = pixel_confidence(image_id)\n",
        "print(diff_num)\n",
        "x = diff_num // 32\n",
        "y = diff_num % 32\n",
        "pixel = np.array([x, y, x_test[image_id][x][y][0], x_test[image_id][x][y][1], x_test[image_id][x][y][2]])\n",
        "\n",
        "for i in range(10):\n",
        "    gradient_ascent_momentum_target(image_id, pixel, i)"
      ],
      "metadata": {
        "id": "vHvU-aSxtQ1T"
      },
      "execution_count": null,
      "outputs": []
    }
  ],
  "metadata": {
    "kernelspec": {
      "display_name": "Python 3",
      "name": "python3"
    },
    "language_info": {
      "codemirror_mode": {
        "name": "ipython",
        "version": 3
      },
      "file_extension": ".py",
      "mimetype": "text/x-python",
      "name": "python",
      "nbconvert_exporter": "python",
      "pygments_lexer": "ipython3",
      "version": "3.7.1"
    },
    "colab": {
      "provenance": []
    }
  },
  "nbformat": 4,
  "nbformat_minor": 0
}